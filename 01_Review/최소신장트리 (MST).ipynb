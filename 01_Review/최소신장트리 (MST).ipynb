{
 "cells": [
  {
   "cell_type": "markdown",
   "metadata": {},
   "source": [
    "# 최소 신장 트리 (Minimum Spanning Tree)\n",
    "- Spanning Tree 중에 사용된 간선들의 가중치 합이 최소인 트리\n",
    "    - Spanning Tree: 그래프의 최소 연결 부분 그래프 (그래프에서 일부 간선을 선택해서 만든 트리)\n",
    "- MST는 간선에 가중치를 고려하여 최소 비용의 스패닝 트리를 선택하는 것\n",
    "    \n",
    "- 조건\n",
    "    - 본래의 그래프의 모든 노드를 포함한다.\n",
    "    - 간선의 가중치의 합이 최소여야 한다.\n",
    "    - 모든 노드가 서로 연결 되어 있어야 한다.\n",
    "    - 트리의 속성을 만족 (사이클이 존재하지 않는다.)"
   ]
  },
  {
   "cell_type": "markdown",
   "metadata": {},
   "source": [
    "![그림 1](https://media.vlpt.us/images/fldfls/post/e1e29196-3896-41c2-89ce-7856697443d6/image.png)"
   ]
  },
  {
   "cell_type": "markdown",
   "metadata": {},
   "source": [
    "## 크루스컬 알고리즘 (Kruskal Algorithm)\n",
    "- 최소 비용 신장 트리를 찾는 알고리즘\n",
    "- 가장 적은 비용으로 모든 노드를 연결하기 위해 사용하는 알고리즘\n",
    "- 최소 스패닝 트리를 찾음으로써 간선의 가중치의 합이 최솟값이 되도록 하는 알고리즘\n",
    "- 스패닝 트리 : 그래프에서 일부 간선을 선택해서 만든 트리\n",
    "- 최소 스패닝 트리 : 스패닝 트리 중에 선택한 간선의 가중치의 합이 최소인 트리\n",
    "    \n",
    "- 동작 원리\n",
    "    1. 모든 간선들의 가중치를 오름차 순으로 정렬한다.\n",
    "    2. 가중치가 가장 작은 간선을 선택한다.\n",
    "    3. 위에서 선택한 간선이 연결하려는 2개의 노드가 서로 연결되지 않은 상태라면, 2개의 노드를 서로 연결한다.\n",
    "    4. 이 과정을 반복한다.\n"
   ]
  },
  {
   "cell_type": "markdown",
   "metadata": {},
   "source": [
    "![그림 2](https://media.vlpt.us/images/fldfls/post/bfc8ca76-a339-45c2-b1cd-17be367b9f8c/image.png)"
   ]
  },
  {
   "cell_type": "markdown",
   "metadata": {},
   "source": [
    "(g)에서 길이가 18인 3번-6번의 라인은 서클을 형성하기 때문에 무시한다.  \n",
    "(h)에서 길이가 24인 4번-6번의 라인은 서클을 형성하기 때문에 무시한다.   \n",
    "마지막으로, 길이가 28인 0번-1번의 라인은 서클을 형성하기 때문에 무시한다.  "
   ]
  },
  {
   "cell_type": "markdown",
   "metadata": {},
   "source": [
    "## 프림 알고리즘 (Prim Algorithm)\n",
    "- 시작 정점을 기준으로 가장 작은 간선과 연결된 정점을 선택하며 신장 트리를 확장 시키는 알고리즘\n",
    "- 정점 선택을 기반으로 하는 알고리즘\n",
    "  \n",
    "- 동작 원리\n",
    "    1. 임의의 간선을 선택한다.\n",
    "    2. 선택한 간선의 정점으로부터 가장 낮은 가중치를 갖는 정점을 선택한다.\n",
    "    3. 모든 정점이 선택될 때까지 반복한다."
   ]
  },
  {
   "cell_type": "markdown",
   "metadata": {},
   "source": [
    "![그림 3](https://media.vlpt.us/images/fldfls/post/4b407297-f4c6-4487-a62b-4d5f52fa64f3/image.png)"
   ]
  },
  {
   "cell_type": "markdown",
   "metadata": {},
   "source": [
    "## 크루스칼 알고리즘 vs. 프림 알고리즘\n",
    "- 프림은 정점 위주의 알고리즘, 크루스칼은 간선 위주의 알고리즘\n",
    "- 프림은 시작점을 정하고, 시작점에서 가까운 정점을 선택하면서 트리르 구성 하므로 그 과정에서 사이클을 이루지 않지만 크루스칼은 시작점을 따로 정하지 않고 최소 비용의 간선을 차례로 대입 하면서 트리를 구성하기 때문에 사이클이 이루어지는 항상 확인 해야한다.\n",
    "- 프림의 경우 최소 거리의 정점을 찾는 부분에서 자료구조의 성능에 영향을 받는다.\n",
    "- 크루스칼은 간선을 기준으로 정렬하는 과정이 오래 걸린다.\n",
    "- 간선의 개수가 작은 경우에는 크루스칼, 간선의 개수가 많은 경우에는 프림."
   ]
  }
 ],
 "metadata": {
  "kernelspec": {
   "display_name": "Python 3",
   "language": "python",
   "name": "python3"
  },
  "language_info": {
   "codemirror_mode": {
    "name": "ipython",
    "version": 3
   },
   "file_extension": ".py",
   "mimetype": "text/x-python",
   "name": "python",
   "nbconvert_exporter": "python",
   "pygments_lexer": "ipython3",
   "version": "3.6.5"
  }
 },
 "nbformat": 4,
 "nbformat_minor": 4
}
